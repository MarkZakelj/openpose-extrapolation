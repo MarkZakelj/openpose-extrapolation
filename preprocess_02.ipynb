{
 "cells": [
  {
   "cell_type": "code",
   "execution_count": 1,
   "metadata": {},
   "outputs": [],
   "source": [
    "import pandas as pd\n",
    "import torch\n",
    "from einops import rearrange\n",
    "from util import Keypoint, draw_bodypose\n",
    "from PIL import Image, ImageDraw\n",
    "import numpy as np\n",
    "import matplotlib.pyplot as plt\n",
    "import os\n",
    "import random\n",
    "from util import create_image_grid_with_borders, draw_bodypose, translate_to_keyppoints"
   ]
  },
  {
   "cell_type": "code",
   "execution_count": 9,
   "metadata": {},
   "outputs": [],
   "source": [
    "VERSION = 'v2'\n",
    "random.seed(42)"
   ]
  },
  {
   "cell_type": "code",
   "execution_count": 3,
   "metadata": {},
   "outputs": [],
   "source": [
    "NECK = 1\n",
    "def scale_pose(poses, scale):\n",
    "    poses = poses.clone()\n",
    "    meanx = poses[:, :, 0].mean(dim=1)\n",
    "    meany = poses[:, :, 1].mean(dim=1)\n",
    "    poses[:, :, 0] -= meanx.unsqueeze(1)\n",
    "    poses[:, :, 1] -= meany.unsqueeze(1)\n",
    "    poses[:, :, 0] *= scale[0]\n",
    "    poses[:, :, 1] *= scale[1]\n",
    "    poses[:, :, 0] += meanx.unsqueeze(1)\n",
    "    poses[:, :, 1] += meany.unsqueeze(1)\n",
    "    return poses\n",
    "\n",
    "def calculate_relative_points(poses):\n",
    "    res = poses.clone()\n",
    "    res -= poses[:, NECK:NECK+1, :] # subtract neck\n",
    "    return res"
   ]
  },
  {
   "cell_type": "code",
   "execution_count": 4,
   "metadata": {},
   "outputs": [],
   "source": [
    "df = pd.read_csv('data/poses.csv')\n",
    "df = df[~(df['class'].isin(['squat', 'wave']))] # remove squats and waves\n",
    "df = df.drop('class', axis=1) # remove class column\n",
    "df = df[~(df == 0).any(axis=1)] # remove rows with any zeros - undefined ponints\n",
    "poses = torch.tensor(df.values, dtype=torch.float32) # convert to tensor\n",
    "poses = rearrange(poses, 'n (ps p) -> n ps p', p=2) # rearrange to (n, 18, 2)\n",
    "poses = scale_pose(poses, (1.6, 1.0)) # fix x-axis points\n",
    "poses = calculate_relative_points(poses) # change to relative to NECK"
   ]
  },
  {
   "cell_type": "code",
   "execution_count": 5,
   "metadata": {},
   "outputs": [],
   "source": [
    "# augument the dataset with scaling\n",
    "get_scale = lambda : random.uniform(1.0, 3.8)\n",
    "REPETITIONS = 10\n",
    "res = []\n",
    "for n in range(REPETITIONS):\n",
    "    poses_scaled = poses.clone()\n",
    "    scale = get_scale()\n",
    "    poses_scaled *= scale\n",
    "    res.append(poses_scaled)\n",
    "poses_scaled = torch.cat(res, dim=0)"
   ]
  },
  {
   "cell_type": "code",
   "execution_count": 6,
   "metadata": {},
   "outputs": [],
   "source": [
    "# augument the dataset with missing points\n",
    "missing_conf = [\n",
    "    [], # no missing\n",
    "    [10, 13],\n",
    "    [9, 10, 12, 13],\n",
    "    [8, 9, 10, 11, 12, 13],\n",
    "    [4,7,8,9,10,11,12,13],\n",
    "    [4,7,9,10,12,13],\n",
    "    [3,4,6,7,8,9,10,11,12,13],\n",
    "    [7,9,10,12,13],\n",
    "    [4,9,10,12,13],\n",
    "    [6,7],\n",
    "    [3,4],\n",
    "    [16],\n",
    "    [17],\n",
    "    [14,16],\n",
    "    [15,17],\n",
    "    [14,15,16,17]\n",
    "]\n",
    "res = []\n",
    "for conf in missing_conf:\n",
    "    poses_missing = poses_scaled.clone()\n",
    "    poses_missing[:, conf, :] = -10.0\n",
    "    res.append(poses_missing)\n",
    "poses_missing = torch.cat(res, dim=0)"
   ]
  },
  {
   "cell_type": "code",
   "execution_count": 7,
   "metadata": {},
   "outputs": [],
   "source": [
    "# augument dataset based on image ratio\n",
    "nposes = poses_missing.shape[0]\n",
    "ratios = [1344/768, 1.0, 768/1344]\n",
    "ratios_df = torch.cat([\n",
    "    torch.ones(nposes, 1) * ratios[0],\n",
    "    torch.ones(nposes, 1) * ratios[1],\n",
    "    torch.ones(nposes, 1) * ratios[2],\n",
    "], dim=0).squeeze()\n",
    "res = []\n",
    "for ratio in ratios:\n",
    "    poses_ratio = poses_missing.clone()\n",
    "    poses_ratio[:, :, 0] *= ratio\n",
    "    res.append(poses_ratio)\n",
    "poses = torch.cat(res, dim=0)"
   ]
  },
  {
   "cell_type": "code",
   "execution_count": 14,
   "metadata": {},
   "outputs": [],
   "source": [
    "# check if ratios and points are of the same length\n",
    "assert poses.shape[0] == ratios_df.shape[0]"
   ]
  },
  {
   "cell_type": "code",
   "execution_count": 16,
   "metadata": {},
   "outputs": [],
   "source": [
    "data_dir = f'data/{VERSION}'\n",
    "os.makedirs(data_dir, exist_ok=True)\n",
    "torch.save(poses, os.path.join(data_dir, 'poses.pt'))\n",
    "torch.save(ratios_df, os.path.join(data_dir, 'ratios.pt'))"
   ]
  },
  {
   "cell_type": "code",
   "execution_count": 16,
   "metadata": {},
   "outputs": [
    {
     "data": {
      "image/png": "[encoded data removed]",
      "text/plain": [
       "<Figure size 600x600 with 1 Axes>"
      ]
     },
     "metadata": {},
     "output_type": "display_data"
    }
   ],
   "source": [
    "h, w = 1024, 1024\n",
    "images = [Image.fromarray(draw_bodypose(np.zeros((h, w, 3), dtype=np.uint8), translate_to_keyppoints(poses[i].numpy()))) \n",
    "          for i in random.sample(range(0, poses.shape[0] + 1), 6)]\n",
    "grid_img = create_image_grid_with_borders(images, 1, 1)\n",
    "fig = plt.figure(figsize=(6, 6))\n",
    "plt.imshow(grid_img)\n",
    "plt.axis('off')\n",
    "plt.show();"
   ]
  },
  {
   "cell_type": "code",
   "execution_count": null,
   "metadata": {},
   "outputs": [],
   "source": []
  }
 ],
 "metadata": {
  "kernelspec": {
   "display_name": "venv",
   "language": "python",
   "name": "python3"
  },
  "language_info": {
   "codemirror_mode": {
    "name": "ipython",
    "version": 3
   },
   "file_extension": ".py",
   "mimetype": "text/x-python",
   "name": "python",
   "nbconvert_exporter": "python",
   "pygments_lexer": "ipython3",
   "version": "3.11.7"
  }
 },
 "nbformat": 4,
 "nbformat_minor": 2
}
