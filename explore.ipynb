{
 "cells": [
  {
   "cell_type": "code",
   "execution_count": 1,
   "metadata": {},
   "outputs": [],
   "source": [
    "import pandas as pd\n",
    "import torch\n",
    "from einops import rearrange\n",
    "from util import Keypoint, draw_bodypose\n",
    "from PIL import Image, ImageDraw\n",
    "import numpy as np\n",
    "import matplotlib.pyplot as plt\n",
    "import os\n",
    "import random"
   ]
  },
  {
   "cell_type": "code",
   "execution_count": 2,
   "metadata": {},
   "outputs": [
    {
     "data": {
      "text/plain": [
       "class\n",
       "stand    744\n",
       "walk     722\n",
       "wave     692\n",
       "squat    668\n",
       "Name: count, dtype: int64"
      ]
     },
     "execution_count": 2,
     "metadata": {},
     "output_type": "execute_result"
    }
   ],
   "source": [
    "df = pd.read_csv('data/poses.csv')\n",
    "df['class'].value_counts()"
   ]
  },
  {
   "cell_type": "code",
   "execution_count": 3,
   "metadata": {},
   "outputs": [],
   "source": [
    "df = pd.read_csv('data/poses.csv')\n",
    "df = df[~(df['class'].isin(['squat', 'wave']))]\n",
    "df = df.drop('class', axis=1)\n",
    "df = df[~(df == 0).any(axis=1)]\n",
    "poses = torch.tensor(df.values, dtype=torch.float32)\n",
    "poses_rear = rearrange(poses, 'n (ps p) -> n ps p', p=2)"
   ]
  },
  {
   "cell_type": "code",
   "execution_count": 4,
   "metadata": {},
   "outputs": [
    {
     "data": {
      "text/plain": [
       "torch.Size([800, 18, 2])"
      ]
     },
     "execution_count": 4,
     "metadata": {},
     "output_type": "execute_result"
    }
   ],
   "source": [
    "poses_rear.shape"
   ]
  },
  {
   "cell_type": "code",
   "execution_count": 5,
   "metadata": {},
   "outputs": [],
   "source": [
    "def translate_to_keyppoints(pose):\n",
    "    return [Keypoint(x, y, True) if 0.0 < x < 1.0 and 0.0 < y < 1.0 else None for x, y in pose]"
   ]
  },
  {
   "cell_type": "code",
   "execution_count": 6,
   "metadata": {},
   "outputs": [],
   "source": [
    "def create_image_grid_with_borders(images, rows, cols, border=1, border_color='white'):\n",
    "    if not images:\n",
    "        raise ValueError(\"No images to compose.\")\n",
    "\n",
    "    # Assuming all images are the same size\n",
    "    w, h = images[0].size\n",
    "\n",
    "    # Size of the grid, accounting for borders\n",
    "    grid_width = cols * w + (cols - 1) * border\n",
    "    grid_height = rows * h + (rows - 1) * border\n",
    "\n",
    "    # Create a new image with a white background\n",
    "    grid_img = Image.new('RGB', (grid_width, grid_height), color='white')\n",
    "    draw = ImageDraw.Draw(grid_img)\n",
    "\n",
    "    for i, img in enumerate(images):\n",
    "        # Calculate grid position\n",
    "        grid_x = (i % cols) * (w + border)\n",
    "        grid_y = (i // cols) * (h + border)\n",
    "\n",
    "        # Paste the image into position\n",
    "        grid_img.paste(img, (grid_x, grid_y))\n",
    "\n",
    "        # Draw vertical borders\n",
    "        if (i % cols) != (cols - 1):  # Avoid drawing on the last column\n",
    "            draw.line([(grid_x + w, grid_y), (grid_x + w, grid_y + h)], fill=border_color, width=border)\n",
    "\n",
    "        # Draw horizontal borders\n",
    "        if (i // cols) != (rows - 1):  # Avoid drawing on the last row\n",
    "            draw.line([(grid_x, grid_y + h), (grid_x + w, grid_y + h)], fill=border_color, width=border)\n",
    "\n",
    "    return grid_img"
   ]
  },
  {
   "cell_type": "code",
   "execution_count": 7,
   "metadata": {},
   "outputs": [],
   "source": [
    "def transform_poses(poses, scale_y, move_x, move_y, ratio):\n",
    "    default_ratio = 1.6\n",
    "    new_col = torch.full((poses.shape[0], poses.shape[1], 1), ratio, dtype=torch.float32)\n",
    "    poses = poses.clone()\n",
    "    mean_x = poses[:, :, 0].mean(axis=1).unsqueeze(1)\n",
    "    mean_y = poses[:, :, 1].mean(axis=1).unsqueeze(1)\n",
    "    poses[:, :, 0] -= mean_x\n",
    "    poses[:, :, 1] -= mean_y\n",
    "    poses[:, :, 0] *= scale_y * ratio * default_ratio\n",
    "    poses[:, :, 1] *= scale_y\n",
    "    poses[:, :, 0] += mean_x + move_x\n",
    "    poses[:, :, 1] += mean_y + move_y\n",
    "    return torch.cat((poses, new_col), axis=2)"
   ]
  },
  {
   "cell_type": "code",
   "execution_count": 8,
   "metadata": {},
   "outputs": [],
   "source": [
    "sizes = [(1344, 768), (1024, 1024), (768, 1344)]\n",
    "# random.seed(1232)\n",
    "idx = 2\n",
    "w, h = sizes[idx]\n",
    "transforms = [\n",
    "    (1.5, .0, .2, *sizes[0]),\n",
    "    (2.5, .0, .3, *sizes[0]),\n",
    "    (2.5, .0, .5, *sizes[0]),\n",
    "    (3.5, .0, .2, *sizes[0]),\n",
    "    (1.5, -.3, .2, *sizes[0]),\n",
    "    (2.5, -.3, .3, *sizes[0]),\n",
    "    (2.5, -.3, .5, *sizes[0]),\n",
    "    (3.5, -.3, .2, *sizes[0]),\n",
    "    (1.5, .3, .2, *sizes[0]),\n",
    "    (2.5, .3, .3, *sizes[0]),\n",
    "    (2.5, .3, .5, *sizes[0]),\n",
    "    (3.5, .3, .2, *sizes[0]),\n",
    "    (1.5, .0, .2, *sizes[1]),\n",
    "    (2.5, .0, .3, *sizes[1]),\n",
    "    (2.5, .0, .5, *sizes[1]),\n",
    "    (3.5, .0, .2, *sizes[1]),\n",
    "    (3.5, .0, .5, *sizes[1]),\n",
    "    (1.5, -.3, .2, *sizes[1]),\n",
    "    (1.5, -.3, -.2, *sizes[1]),\n",
    "    (2.5, -.3, .3, *sizes[1]),\n",
    "    (2.5, -.3, .5, *sizes[1]),\n",
    "    (3.5, -.3, .2, *sizes[1]),\n",
    "    (1.5, .3, .2, *sizes[1]),\n",
    "    (2.5, .3, .3, *sizes[1]),\n",
    "    (2.5, .3, .4, *sizes[1]),\n",
    "    (3.5, .3, 0.1, *sizes[1]),\n",
    "    (1.5, .0, .2, *sizes[2]),\n",
    "    (1.1, .0, -.2, *sizes[2]),\n",
    "    (2.5, .0, .3, *sizes[2]),\n",
    "    (2.5, .0, .0, *sizes[2]),\n",
    "    (2.5, .0, .5, *sizes[2]),\n",
    "    (3.5, .0, .2, *sizes[2]),\n",
    "    (3.5, .0, .5, *sizes[2]),\n",
    "    (1.5, -.3, .2, *sizes[2]),\n",
    "    (1.5, -.3, -.2, *sizes[2]),\n",
    "    (2.5, -.3, .3, *sizes[2]),\n",
    "    (2.5, -.3, .5, *sizes[2]),\n",
    "    (3.5, -.3, .2, *sizes[2]),\n",
    "    (1.5, .3, .2, *sizes[2]),\n",
    "    (2.5, .3, .3, *sizes[2]),\n",
    "    (2.5, .3, .4, *sizes[2]),\n",
    "    (3.5, .3, 0.1, *sizes[2]),\n",
    "]\n",
    "lst = []\n",
    "for tr in transforms:\n",
    "    lst.append(transform_poses(poses_rear, tr[0], tr[1], tr[2], tr[4] / tr[3]))\n",
    "poses_tmp = torch.cat(lst)"
   ]
  },
  {
   "cell_type": "code",
   "execution_count": 21,
   "metadata": {},
   "outputs": [],
   "source": [
    "mask = (poses_tmp[..., 0] < 0) | (poses_tmp[..., 0] > 1) | (poses_tmp[..., 1] < 0) | (poses_tmp[..., 1] > 1)\n",
    "sm = mask.sum(dim=1)\n",
    "filtered_poses = poses_tmp[sm >= 8]\n",
    "final_poses = rearrange(filtered_poses[:, :, :2], 'n ps p -> n (ps p)')\n",
    "final_ratios = filtered_poses[:, 0, 2]\n",
    "torch.save(final_poses, f'data/poses_keypoints.pt')\n",
    "torch.save(final_ratios, f'data/poses_ratios.pt')"
   ]
  },
  {
   "cell_type": "code",
   "execution_count": 25,
   "metadata": {},
   "outputs": [],
   "source": [
    "poses = rearrange(final_poses, 'n (ps p) -> n ps p', p=2)"
   ]
  },
  {
   "cell_type": "code",
   "execution_count": 27,
   "metadata": {},
   "outputs": [],
   "source": [
    "mask = (poses[..., 0] < 0) | (poses[..., 0] > 1) | (poses[..., 1] < 0) | (poses[..., 1] > 1)\n",
    "poses[mask] = -1"
   ]
  },
  {
   "cell_type": "code",
   "execution_count": 32,
   "metadata": {},
   "outputs": [],
   "source": [
    "torch.save(rearrange(poses, 'n ps p -> n (ps p)'), f'data/poses_with_missing.pt')"
   ]
  },
  {
   "cell_type": "code",
   "execution_count": 208,
   "metadata": {},
   "outputs": [
    {
     "data": {
      "image/png": "[encoded data removed]",
      "text/plain": [
       "<Figure size 1400x1000 with 1 Axes>"
      ]
     },
     "metadata": {},
     "output_type": "display_data"
    }
   ],
   "source": [
    "images = [Image.fromarray(draw_bodypose(np.zeros((h, w, 3), dtype=np.uint8), translate_to_keyppoints(poses_tmp[i].numpy()))) \n",
    "          for i in random.sample(range(0, poses_tmp.shape[0] + 1), 6)]\n",
    "rows = 2\n",
    "cols = 3\n",
    "grid_img = create_image_grid_with_borders(images, rows, cols)\n",
    "fig = plt.figure(figsize=(14, 10))\n",
    "plt.imshow(grid_img)\n",
    "plt.axis('off')\n",
    "plt.show();"
   ]
  }
 ],
 "metadata": {
  "kernelspec": {
   "display_name": "venv",
   "language": "python",
   "name": "python3"
  },
  "language_info": {
   "codemirror_mode": {
    "name": "ipython",
    "version": 3
   },
   "file_extension": ".py",
   "mimetype": "text/x-python",
   "name": "python",
   "nbconvert_exporter": "python",
   "pygments_lexer": "ipython3",
   "version": "3.11.7"
  }
 },
 "nbformat": 4,
 "nbformat_minor": 2
}
